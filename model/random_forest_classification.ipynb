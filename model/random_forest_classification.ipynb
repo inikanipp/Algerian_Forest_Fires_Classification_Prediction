{
  "nbformat": 4,
  "nbformat_minor": 0,
  "metadata": {
    "colab": {
      "provenance": [],
      "authorship_tag": "ABX9TyOTXlOXR7XXqdbG67cVUoxs",
      "include_colab_link": true
    },
    "kernelspec": {
      "name": "python3",
      "display_name": "Python 3"
    },
    "language_info": {
      "name": "python"
    }
  },
  "cells": [
    {
      "cell_type": "markdown",
      "metadata": {
        "id": "view-in-github",
        "colab_type": "text"
      },
      "source": [
        "<a href=\"https://colab.research.google.com/github/inikanipp/Algerian_Forest_Fires_Classification_Prediction/blob/main/model/random_forest_classification.ipynb\" target=\"_parent\"><img src=\"https://colab.research.google.com/assets/colab-badge.svg\" alt=\"Open In Colab\"/></a>"
      ]
    },
    {
      "cell_type": "markdown",
      "source": [
        "#import library\n"
      ],
      "metadata": {
        "id": "h_pHB_vrqpJf"
      }
    },
    {
      "cell_type": "code",
      "execution_count": 84,
      "metadata": {
        "id": "kiGZVT47JG1w"
      },
      "outputs": [],
      "source": [
        "import pandas as pd\n",
        "import numpy as np\n",
        "import matplotlib.pyplot as plt\n",
        "import seaborn as sns"
      ]
    },
    {
      "cell_type": "markdown",
      "source": [
        "#import dataset"
      ],
      "metadata": {
        "id": "OfPBpcejqyv7"
      }
    },
    {
      "cell_type": "code",
      "source": [
        "dataset = pd.read_csv('dataset-Algerian.csv')"
      ],
      "metadata": {
        "id": "Vd8sf-NFqtRv"
      },
      "execution_count": 85,
      "outputs": []
    },
    {
      "cell_type": "markdown",
      "source": [
        "#Descriptive Statistic"
      ],
      "metadata": {
        "id": "HHZSM4n2rMFR"
      }
    },
    {
      "cell_type": "code",
      "source": [
        "dataset.describe()"
      ],
      "metadata": {
        "id": "Gno_T1GCrcEc",
        "outputId": "998ec22f-20e3-4028-fb6a-ff4a83c21d64",
        "colab": {
          "base_uri": "https://localhost:8080/",
          "height": 300
        }
      },
      "execution_count": 86,
      "outputs": [
        {
          "output_type": "execute_result",
          "data": {
            "text/plain": [
              "              day       month    year  Temperature          RH          Ws  \\\n",
              "count  244.000000  244.000000   244.0   244.000000  244.000000  244.000000   \n",
              "mean    15.754098    7.500000  2012.0    32.172131   61.938525   15.504098   \n",
              "std      8.825059    1.112961     0.0     3.633843   14.884200    2.810178   \n",
              "min      1.000000    6.000000  2012.0    22.000000   21.000000    6.000000   \n",
              "25%      8.000000    7.000000  2012.0    30.000000   52.000000   14.000000   \n",
              "50%     16.000000    7.500000  2012.0    32.000000   63.000000   15.000000   \n",
              "75%     23.000000    8.000000  2012.0    35.000000   73.250000   17.000000   \n",
              "max     31.000000    9.000000  2012.0    42.000000   90.000000   29.000000   \n",
              "\n",
              "            Rain         FFMC         DMC          DC         ISI         BUI  \n",
              "count  244.000000  244.000000  244.000000  244.000000  244.000000  244.000000  \n",
              "mean     0.760656   77.887705   14.673361   49.288484    4.774180   16.664754  \n",
              "std      1.999406   14.337571   12.368039   47.619393    4.175318   14.204824  \n",
              "min      0.000000   28.600000    0.700000    6.900000    0.000000    1.100000  \n",
              "25%      0.000000   72.075000    5.800000   13.275000    1.400000    6.000000  \n",
              "50%      0.000000   83.500000   11.300000   33.100000    3.500000   12.250000  \n",
              "75%      0.500000   88.300000   20.750000   68.150000    7.300000   22.525000  \n",
              "max     16.800000   96.000000   65.900000  220.400000   19.000000   68.000000  "
            ],
            "text/html": [
              "\n",
              "  <div id=\"df-edb26e2f-13da-42bf-8478-1a4b169179d5\" class=\"colab-df-container\">\n",
              "    <div>\n",
              "<style scoped>\n",
              "    .dataframe tbody tr th:only-of-type {\n",
              "        vertical-align: middle;\n",
              "    }\n",
              "\n",
              "    .dataframe tbody tr th {\n",
              "        vertical-align: top;\n",
              "    }\n",
              "\n",
              "    .dataframe thead th {\n",
              "        text-align: right;\n",
              "    }\n",
              "</style>\n",
              "<table border=\"1\" class=\"dataframe\">\n",
              "  <thead>\n",
              "    <tr style=\"text-align: right;\">\n",
              "      <th></th>\n",
              "      <th>day</th>\n",
              "      <th>month</th>\n",
              "      <th>year</th>\n",
              "      <th>Temperature</th>\n",
              "      <th>RH</th>\n",
              "      <th>Ws</th>\n",
              "      <th>Rain</th>\n",
              "      <th>FFMC</th>\n",
              "      <th>DMC</th>\n",
              "      <th>DC</th>\n",
              "      <th>ISI</th>\n",
              "      <th>BUI</th>\n",
              "    </tr>\n",
              "  </thead>\n",
              "  <tbody>\n",
              "    <tr>\n",
              "      <th>count</th>\n",
              "      <td>244.000000</td>\n",
              "      <td>244.000000</td>\n",
              "      <td>244.0</td>\n",
              "      <td>244.000000</td>\n",
              "      <td>244.000000</td>\n",
              "      <td>244.000000</td>\n",
              "      <td>244.000000</td>\n",
              "      <td>244.000000</td>\n",
              "      <td>244.000000</td>\n",
              "      <td>244.000000</td>\n",
              "      <td>244.000000</td>\n",
              "      <td>244.000000</td>\n",
              "    </tr>\n",
              "    <tr>\n",
              "      <th>mean</th>\n",
              "      <td>15.754098</td>\n",
              "      <td>7.500000</td>\n",
              "      <td>2012.0</td>\n",
              "      <td>32.172131</td>\n",
              "      <td>61.938525</td>\n",
              "      <td>15.504098</td>\n",
              "      <td>0.760656</td>\n",
              "      <td>77.887705</td>\n",
              "      <td>14.673361</td>\n",
              "      <td>49.288484</td>\n",
              "      <td>4.774180</td>\n",
              "      <td>16.664754</td>\n",
              "    </tr>\n",
              "    <tr>\n",
              "      <th>std</th>\n",
              "      <td>8.825059</td>\n",
              "      <td>1.112961</td>\n",
              "      <td>0.0</td>\n",
              "      <td>3.633843</td>\n",
              "      <td>14.884200</td>\n",
              "      <td>2.810178</td>\n",
              "      <td>1.999406</td>\n",
              "      <td>14.337571</td>\n",
              "      <td>12.368039</td>\n",
              "      <td>47.619393</td>\n",
              "      <td>4.175318</td>\n",
              "      <td>14.204824</td>\n",
              "    </tr>\n",
              "    <tr>\n",
              "      <th>min</th>\n",
              "      <td>1.000000</td>\n",
              "      <td>6.000000</td>\n",
              "      <td>2012.0</td>\n",
              "      <td>22.000000</td>\n",
              "      <td>21.000000</td>\n",
              "      <td>6.000000</td>\n",
              "      <td>0.000000</td>\n",
              "      <td>28.600000</td>\n",
              "      <td>0.700000</td>\n",
              "      <td>6.900000</td>\n",
              "      <td>0.000000</td>\n",
              "      <td>1.100000</td>\n",
              "    </tr>\n",
              "    <tr>\n",
              "      <th>25%</th>\n",
              "      <td>8.000000</td>\n",
              "      <td>7.000000</td>\n",
              "      <td>2012.0</td>\n",
              "      <td>30.000000</td>\n",
              "      <td>52.000000</td>\n",
              "      <td>14.000000</td>\n",
              "      <td>0.000000</td>\n",
              "      <td>72.075000</td>\n",
              "      <td>5.800000</td>\n",
              "      <td>13.275000</td>\n",
              "      <td>1.400000</td>\n",
              "      <td>6.000000</td>\n",
              "    </tr>\n",
              "    <tr>\n",
              "      <th>50%</th>\n",
              "      <td>16.000000</td>\n",
              "      <td>7.500000</td>\n",
              "      <td>2012.0</td>\n",
              "      <td>32.000000</td>\n",
              "      <td>63.000000</td>\n",
              "      <td>15.000000</td>\n",
              "      <td>0.000000</td>\n",
              "      <td>83.500000</td>\n",
              "      <td>11.300000</td>\n",
              "      <td>33.100000</td>\n",
              "      <td>3.500000</td>\n",
              "      <td>12.250000</td>\n",
              "    </tr>\n",
              "    <tr>\n",
              "      <th>75%</th>\n",
              "      <td>23.000000</td>\n",
              "      <td>8.000000</td>\n",
              "      <td>2012.0</td>\n",
              "      <td>35.000000</td>\n",
              "      <td>73.250000</td>\n",
              "      <td>17.000000</td>\n",
              "      <td>0.500000</td>\n",
              "      <td>88.300000</td>\n",
              "      <td>20.750000</td>\n",
              "      <td>68.150000</td>\n",
              "      <td>7.300000</td>\n",
              "      <td>22.525000</td>\n",
              "    </tr>\n",
              "    <tr>\n",
              "      <th>max</th>\n",
              "      <td>31.000000</td>\n",
              "      <td>9.000000</td>\n",
              "      <td>2012.0</td>\n",
              "      <td>42.000000</td>\n",
              "      <td>90.000000</td>\n",
              "      <td>29.000000</td>\n",
              "      <td>16.800000</td>\n",
              "      <td>96.000000</td>\n",
              "      <td>65.900000</td>\n",
              "      <td>220.400000</td>\n",
              "      <td>19.000000</td>\n",
              "      <td>68.000000</td>\n",
              "    </tr>\n",
              "  </tbody>\n",
              "</table>\n",
              "</div>\n",
              "    <div class=\"colab-df-buttons\">\n",
              "\n",
              "  <div class=\"colab-df-container\">\n",
              "    <button class=\"colab-df-convert\" onclick=\"convertToInteractive('df-edb26e2f-13da-42bf-8478-1a4b169179d5')\"\n",
              "            title=\"Convert this dataframe to an interactive table.\"\n",
              "            style=\"display:none;\">\n",
              "\n",
              "  <svg xmlns=\"http://www.w3.org/2000/svg\" height=\"24px\" viewBox=\"0 -960 960 960\">\n",
              "    <path d=\"M120-120v-720h720v720H120Zm60-500h600v-160H180v160Zm220 220h160v-160H400v160Zm0 220h160v-160H400v160ZM180-400h160v-160H180v160Zm440 0h160v-160H620v160ZM180-180h160v-160H180v160Zm440 0h160v-160H620v160Z\"/>\n",
              "  </svg>\n",
              "    </button>\n",
              "\n",
              "  <style>\n",
              "    .colab-df-container {\n",
              "      display:flex;\n",
              "      gap: 12px;\n",
              "    }\n",
              "\n",
              "    .colab-df-convert {\n",
              "      background-color: #E8F0FE;\n",
              "      border: none;\n",
              "      border-radius: 50%;\n",
              "      cursor: pointer;\n",
              "      display: none;\n",
              "      fill: #1967D2;\n",
              "      height: 32px;\n",
              "      padding: 0 0 0 0;\n",
              "      width: 32px;\n",
              "    }\n",
              "\n",
              "    .colab-df-convert:hover {\n",
              "      background-color: #E2EBFA;\n",
              "      box-shadow: 0px 1px 2px rgba(60, 64, 67, 0.3), 0px 1px 3px 1px rgba(60, 64, 67, 0.15);\n",
              "      fill: #174EA6;\n",
              "    }\n",
              "\n",
              "    .colab-df-buttons div {\n",
              "      margin-bottom: 4px;\n",
              "    }\n",
              "\n",
              "    [theme=dark] .colab-df-convert {\n",
              "      background-color: #3B4455;\n",
              "      fill: #D2E3FC;\n",
              "    }\n",
              "\n",
              "    [theme=dark] .colab-df-convert:hover {\n",
              "      background-color: #434B5C;\n",
              "      box-shadow: 0px 1px 3px 1px rgba(0, 0, 0, 0.15);\n",
              "      filter: drop-shadow(0px 1px 2px rgba(0, 0, 0, 0.3));\n",
              "      fill: #FFFFFF;\n",
              "    }\n",
              "  </style>\n",
              "\n",
              "    <script>\n",
              "      const buttonEl =\n",
              "        document.querySelector('#df-edb26e2f-13da-42bf-8478-1a4b169179d5 button.colab-df-convert');\n",
              "      buttonEl.style.display =\n",
              "        google.colab.kernel.accessAllowed ? 'block' : 'none';\n",
              "\n",
              "      async function convertToInteractive(key) {\n",
              "        const element = document.querySelector('#df-edb26e2f-13da-42bf-8478-1a4b169179d5');\n",
              "        const dataTable =\n",
              "          await google.colab.kernel.invokeFunction('convertToInteractive',\n",
              "                                                    [key], {});\n",
              "        if (!dataTable) return;\n",
              "\n",
              "        const docLinkHtml = 'Like what you see? Visit the ' +\n",
              "          '<a target=\"_blank\" href=https://colab.research.google.com/notebooks/data_table.ipynb>data table notebook</a>'\n",
              "          + ' to learn more about interactive tables.';\n",
              "        element.innerHTML = '';\n",
              "        dataTable['output_type'] = 'display_data';\n",
              "        await google.colab.output.renderOutput(dataTable, element);\n",
              "        const docLink = document.createElement('div');\n",
              "        docLink.innerHTML = docLinkHtml;\n",
              "        element.appendChild(docLink);\n",
              "      }\n",
              "    </script>\n",
              "  </div>\n",
              "\n",
              "\n",
              "<div id=\"df-524578fe-0787-4e93-9c7e-7c27e823b672\">\n",
              "  <button class=\"colab-df-quickchart\" onclick=\"quickchart('df-524578fe-0787-4e93-9c7e-7c27e823b672')\"\n",
              "            title=\"Suggest charts\"\n",
              "            style=\"display:none;\">\n",
              "\n",
              "<svg xmlns=\"http://www.w3.org/2000/svg\" height=\"24px\"viewBox=\"0 0 24 24\"\n",
              "     width=\"24px\">\n",
              "    <g>\n",
              "        <path d=\"M19 3H5c-1.1 0-2 .9-2 2v14c0 1.1.9 2 2 2h14c1.1 0 2-.9 2-2V5c0-1.1-.9-2-2-2zM9 17H7v-7h2v7zm4 0h-2V7h2v10zm4 0h-2v-4h2v4z\"/>\n",
              "    </g>\n",
              "</svg>\n",
              "  </button>\n",
              "\n",
              "<style>\n",
              "  .colab-df-quickchart {\n",
              "      --bg-color: #E8F0FE;\n",
              "      --fill-color: #1967D2;\n",
              "      --hover-bg-color: #E2EBFA;\n",
              "      --hover-fill-color: #174EA6;\n",
              "      --disabled-fill-color: #AAA;\n",
              "      --disabled-bg-color: #DDD;\n",
              "  }\n",
              "\n",
              "  [theme=dark] .colab-df-quickchart {\n",
              "      --bg-color: #3B4455;\n",
              "      --fill-color: #D2E3FC;\n",
              "      --hover-bg-color: #434B5C;\n",
              "      --hover-fill-color: #FFFFFF;\n",
              "      --disabled-bg-color: #3B4455;\n",
              "      --disabled-fill-color: #666;\n",
              "  }\n",
              "\n",
              "  .colab-df-quickchart {\n",
              "    background-color: var(--bg-color);\n",
              "    border: none;\n",
              "    border-radius: 50%;\n",
              "    cursor: pointer;\n",
              "    display: none;\n",
              "    fill: var(--fill-color);\n",
              "    height: 32px;\n",
              "    padding: 0;\n",
              "    width: 32px;\n",
              "  }\n",
              "\n",
              "  .colab-df-quickchart:hover {\n",
              "    background-color: var(--hover-bg-color);\n",
              "    box-shadow: 0 1px 2px rgba(60, 64, 67, 0.3), 0 1px 3px 1px rgba(60, 64, 67, 0.15);\n",
              "    fill: var(--button-hover-fill-color);\n",
              "  }\n",
              "\n",
              "  .colab-df-quickchart-complete:disabled,\n",
              "  .colab-df-quickchart-complete:disabled:hover {\n",
              "    background-color: var(--disabled-bg-color);\n",
              "    fill: var(--disabled-fill-color);\n",
              "    box-shadow: none;\n",
              "  }\n",
              "\n",
              "  .colab-df-spinner {\n",
              "    border: 2px solid var(--fill-color);\n",
              "    border-color: transparent;\n",
              "    border-bottom-color: var(--fill-color);\n",
              "    animation:\n",
              "      spin 1s steps(1) infinite;\n",
              "  }\n",
              "\n",
              "  @keyframes spin {\n",
              "    0% {\n",
              "      border-color: transparent;\n",
              "      border-bottom-color: var(--fill-color);\n",
              "      border-left-color: var(--fill-color);\n",
              "    }\n",
              "    20% {\n",
              "      border-color: transparent;\n",
              "      border-left-color: var(--fill-color);\n",
              "      border-top-color: var(--fill-color);\n",
              "    }\n",
              "    30% {\n",
              "      border-color: transparent;\n",
              "      border-left-color: var(--fill-color);\n",
              "      border-top-color: var(--fill-color);\n",
              "      border-right-color: var(--fill-color);\n",
              "    }\n",
              "    40% {\n",
              "      border-color: transparent;\n",
              "      border-right-color: var(--fill-color);\n",
              "      border-top-color: var(--fill-color);\n",
              "    }\n",
              "    60% {\n",
              "      border-color: transparent;\n",
              "      border-right-color: var(--fill-color);\n",
              "    }\n",
              "    80% {\n",
              "      border-color: transparent;\n",
              "      border-right-color: var(--fill-color);\n",
              "      border-bottom-color: var(--fill-color);\n",
              "    }\n",
              "    90% {\n",
              "      border-color: transparent;\n",
              "      border-bottom-color: var(--fill-color);\n",
              "    }\n",
              "  }\n",
              "</style>\n",
              "\n",
              "  <script>\n",
              "    async function quickchart(key) {\n",
              "      const quickchartButtonEl =\n",
              "        document.querySelector('#' + key + ' button');\n",
              "      quickchartButtonEl.disabled = true;  // To prevent multiple clicks.\n",
              "      quickchartButtonEl.classList.add('colab-df-spinner');\n",
              "      try {\n",
              "        const charts = await google.colab.kernel.invokeFunction(\n",
              "            'suggestCharts', [key], {});\n",
              "      } catch (error) {\n",
              "        console.error('Error during call to suggestCharts:', error);\n",
              "      }\n",
              "      quickchartButtonEl.classList.remove('colab-df-spinner');\n",
              "      quickchartButtonEl.classList.add('colab-df-quickchart-complete');\n",
              "    }\n",
              "    (() => {\n",
              "      let quickchartButtonEl =\n",
              "        document.querySelector('#df-524578fe-0787-4e93-9c7e-7c27e823b672 button');\n",
              "      quickchartButtonEl.style.display =\n",
              "        google.colab.kernel.accessAllowed ? 'block' : 'none';\n",
              "    })();\n",
              "  </script>\n",
              "</div>\n",
              "\n",
              "    </div>\n",
              "  </div>\n"
            ],
            "application/vnd.google.colaboratory.intrinsic+json": {
              "type": "dataframe",
              "summary": "{\n  \"name\": \"dataset\",\n  \"rows\": 8,\n  \"fields\": [\n    {\n      \"column\": \"day\",\n      \"properties\": {\n        \"dtype\": \"number\",\n        \"std\": 81.56650611335714,\n        \"min\": 1.0,\n        \"max\": 244.0,\n        \"num_unique_values\": 8,\n        \"samples\": [\n          15.754098360655737,\n          16.0,\n          244.0\n        ],\n        \"semantic_type\": \"\",\n        \"description\": \"\"\n      }\n    },\n    {\n      \"column\": \"month\",\n      \"properties\": {\n        \"dtype\": \"number\",\n        \"std\": 83.97197439364945,\n        \"min\": 1.112961422319757,\n        \"max\": 244.0,\n        \"num_unique_values\": 7,\n        \"samples\": [\n          244.0,\n          7.5,\n          8.0\n        ],\n        \"semantic_type\": \"\",\n        \"description\": \"\"\n      }\n    },\n    {\n      \"column\": \"year\",\n      \"properties\": {\n        \"dtype\": \"number\",\n        \"std\": 877.3269467128953,\n        \"min\": 0.0,\n        \"max\": 2012.0,\n        \"num_unique_values\": 3,\n        \"samples\": [\n          244.0,\n          2012.0,\n          0.0\n        ],\n        \"semantic_type\": \"\",\n        \"description\": \"\"\n      }\n    },\n    {\n      \"column\": \"Temperature\",\n      \"properties\": {\n        \"dtype\": \"number\",\n        \"std\": 77.17559982203272,\n        \"min\": 3.6338432600618047,\n        \"max\": 244.0,\n        \"num_unique_values\": 8,\n        \"samples\": [\n          32.17213114754098,\n          32.0,\n          244.0\n        ],\n        \"semantic_type\": \"\",\n        \"description\": \"\"\n      }\n    },\n    {\n      \"column\": \" RH\",\n      \"properties\": {\n        \"dtype\": \"number\",\n        \"std\": 71.82539318424291,\n        \"min\": 14.884200183354102,\n        \"max\": 244.0,\n        \"num_unique_values\": 8,\n        \"samples\": [\n          61.93852459016394,\n          63.0,\n          244.0\n        ],\n        \"semantic_type\": \"\",\n        \"description\": \"\"\n      }\n    },\n    {\n      \"column\": \" Ws\",\n      \"properties\": {\n        \"dtype\": \"number\",\n        \"std\": 81.62474029054711,\n        \"min\": 2.810178370830236,\n        \"max\": 244.0,\n        \"num_unique_values\": 8,\n        \"samples\": [\n          15.504098360655737,\n          15.0,\n          244.0\n        ],\n        \"semantic_type\": \"\",\n        \"description\": \"\"\n      }\n    },\n    {\n      \"column\": \"Rain \",\n      \"properties\": {\n        \"dtype\": \"number\",\n        \"std\": 85.44597434541711,\n        \"min\": 0.0,\n        \"max\": 244.0,\n        \"num_unique_values\": 6,\n        \"samples\": [\n          244.0,\n          0.760655737704918,\n          16.8\n        ],\n        \"semantic_type\": \"\",\n        \"description\": \"\"\n      }\n    },\n    {\n      \"column\": \"FFMC\",\n      \"properties\": {\n        \"dtype\": \"number\",\n        \"std\": 69.4166059819621,\n        \"min\": 14.337570880168094,\n        \"max\": 244.0,\n        \"num_unique_values\": 8,\n        \"samples\": [\n          77.8877049180328,\n          83.5,\n          244.0\n        ],\n        \"semantic_type\": \"\",\n        \"description\": \"\"\n      }\n    },\n    {\n      \"column\": \"DMC\",\n      \"properties\": {\n        \"dtype\": \"number\",\n        \"std\": 82.12816162058844,\n        \"min\": 0.7,\n        \"max\": 244.0,\n        \"num_unique_values\": 8,\n        \"samples\": [\n          14.673360655737707,\n          11.3,\n          244.0\n        ],\n        \"semantic_type\": \"\",\n        \"description\": \"\"\n      }\n    },\n    {\n      \"column\": \"DC\",\n      \"properties\": {\n        \"dtype\": \"number\",\n        \"std\": 92.97270470109538,\n        \"min\": 6.9,\n        \"max\": 244.0,\n        \"num_unique_values\": 8,\n        \"samples\": [\n          49.28848360655738,\n          33.1,\n          244.0\n        ],\n        \"semantic_type\": \"\",\n        \"description\": \"\"\n      }\n    },\n    {\n      \"column\": \"ISI\",\n      \"properties\": {\n        \"dtype\": \"number\",\n        \"std\": 84.44111126110458,\n        \"min\": 0.0,\n        \"max\": 244.0,\n        \"num_unique_values\": 8,\n        \"samples\": [\n          4.774180327868853,\n          3.5,\n          244.0\n        ],\n        \"semantic_type\": \"\",\n        \"description\": \"\"\n      }\n    },\n    {\n      \"column\": \"BUI\",\n      \"properties\": {\n        \"dtype\": \"number\",\n        \"std\": 81.79293576165735,\n        \"min\": 1.1,\n        \"max\": 244.0,\n        \"num_unique_values\": 8,\n        \"samples\": [\n          16.664754098360657,\n          12.25,\n          244.0\n        ],\n        \"semantic_type\": \"\",\n        \"description\": \"\"\n      }\n    }\n  ]\n}"
            }
          },
          "metadata": {},
          "execution_count": 86
        }
      ]
    },
    {
      "cell_type": "markdown",
      "source": [
        "## jawaban :\n",
        "dari hasil statistik deskriptif diatas menunjukkan bahwa semua kolom dapat dilihat untuk statistik deskriptifnya, namun terdapat 2 kolom yang tidak dapat dilihat statistik deskriptifnya yaitu kolom FWI dan CLASSES, untuk CLASSES tidak perlu kita cari statistik deskriptifnya karena merupakan kolom target dan berbentuk kategori, namun pada FWI merupakan angka dan perlu kita rubah tipe datanya dari object menjadi float untuk melihat statistik deskriptifnya."
      ],
      "metadata": {
        "id": "3KzPeCP6zjYY"
      }
    },
    {
      "cell_type": "code",
      "source": [
        "dataset.info()"
      ],
      "metadata": {
        "id": "fXOU39QstBTl",
        "outputId": "8dff86f5-edb8-4dde-a29f-19b974f070e6",
        "colab": {
          "base_uri": "https://localhost:8080/"
        }
      },
      "execution_count": 87,
      "outputs": [
        {
          "output_type": "stream",
          "name": "stdout",
          "text": [
            "<class 'pandas.core.frame.DataFrame'>\n",
            "RangeIndex: 244 entries, 0 to 243\n",
            "Data columns (total 14 columns):\n",
            " #   Column       Non-Null Count  Dtype  \n",
            "---  ------       --------------  -----  \n",
            " 0   day          244 non-null    int64  \n",
            " 1   month        244 non-null    int64  \n",
            " 2   year         244 non-null    int64  \n",
            " 3   Temperature  244 non-null    int64  \n",
            " 4    RH          244 non-null    int64  \n",
            " 5    Ws          244 non-null    int64  \n",
            " 6   Rain         244 non-null    float64\n",
            " 7   FFMC         244 non-null    float64\n",
            " 8   DMC          244 non-null    float64\n",
            " 9   DC           244 non-null    float64\n",
            " 10  ISI          244 non-null    float64\n",
            " 11  BUI          244 non-null    float64\n",
            " 12  FWI          244 non-null    object \n",
            " 13  Classes      243 non-null    object \n",
            "dtypes: float64(6), int64(6), object(2)\n",
            "memory usage: 26.8+ KB\n"
          ]
        }
      ]
    },
    {
      "cell_type": "code",
      "source": [
        "print(f\"nilai unik dari kolom Classes : {dataset['FWI'].unique()}\")\n",
        "print(f\"nilai unik dari kolom FWI : {dataset['Classes  '].unique()}\")"
      ],
      "metadata": {
        "id": "4BQPu1TCvmnW",
        "outputId": "cc48828b-cd87-40ec-beab-f6b09b0264d6",
        "colab": {
          "base_uri": "https://localhost:8080/"
        }
      },
      "execution_count": 88,
      "outputs": [
        {
          "output_type": "stream",
          "name": "stdout",
          "text": [
            "nilai unik dari kolom Classes : ['0.5' '0.4' '0.1' '0' '2.5' '7.2' '7.1' '0.3' '0.9' '5.6' '7.1 ' '0.2'\n",
            " '1.4' '2.2' '2.3' '3.8' '7.5' '8.4' '10.6' '15' '13.9' '3.9' '12.9' '1.7'\n",
            " '4.9' '6.8' '3.2' '8' '0.6' '3.4' '0.8' '3.6' '6' '10.9' '4' '8.8' '2.8'\n",
            " '2.1' '1.3' '7.3' '15.3' '11.3' '11.9' '10.7' '15.7' '6.1' '2.6' '9.9'\n",
            " '11.6' '12.1' '4.2' '10.2' '6.3' '14.6' '16.1' '17.2' '16.8' '18.4'\n",
            " '20.4' '22.3' '20.9' '20.3' '13.7' '13.2' '19.9' '30.2' '5.9' '7.7' '9.7'\n",
            " '8.3' '0.7' '4.1' '1' '3.1' '1.9' '10' '16.7' '1.2' '5.3' '6.7' '9.5'\n",
            " '12' '6.4' '5.2' '3' '9.6' '4.7' 'fire   ' '14.1' '9.1' '13' '17.3' '30'\n",
            " '25.4' '16.3' '9' '14.5' '13.5' '19.5' '12.6' '12.7' '21.6' '18.8' '10.5'\n",
            " '5.5' '14.8' '24' '26.3' '12.2' '18.1' '24.5' '26.9' '31.1' '30.3' '26.1'\n",
            " '16' '19.4' '2.7' '3.7' '10.3' '5.7' '9.8' '19.3' '17.5' '15.4' '15.2'\n",
            " '6.5']\n",
            "nilai unik dari kolom FWI : ['not fire   ' 'fire   ' 'fire' 'fire ' 'not fire' 'not fire '\n",
            " 'not fire     ' nan 'not fire    ']\n"
          ]
        }
      ]
    },
    {
      "cell_type": "markdown",
      "source": [
        "## Jawaban :\n",
        "dari cek informasi tipe data diatas, dapat diketahui bahwa kolom FWI memiliki tipe data object dan perlu kita ubah menjadi float untuk mencari statistic deskriptifnya, dan CLASSES memiliki tipe data object yang seharusnya memiliki tipe data categorical"
      ],
      "metadata": {
        "id": "3gwtZ4TL0aoX"
      }
    },
    {
      "cell_type": "code",
      "source": [
        "from logging import exception\n",
        "errorIndication = []\n",
        "\n",
        "\n",
        "def tryConvert (row) :\n",
        "  index = dataset.index.get_loc(row.name)\n",
        "  try :\n",
        "    dataset.iloc[index,-2] = float(dataset.iloc[index, -2])\n",
        "    # print(\"ini adalah\", row.name)\n",
        "    # print(dataset.iloc[index,-2])\n",
        "\n",
        "\n",
        "  except Exception:\n",
        "        errorIndication.append(index)\n",
        "\n",
        "dataset.apply( tryConvert ,axis=1)\n",
        "\n",
        "print(errorIndication)\n",
        "\n",
        "for i in errorIndication :\n",
        "  dataset.drop(i, inplace = True)\n",
        "  print(i)\n"
      ],
      "metadata": {
        "id": "30ecSj9VtBgF",
        "outputId": "511143a0-897d-470d-d9a8-cdfb3419dff8",
        "colab": {
          "base_uri": "https://localhost:8080/"
        }
      },
      "execution_count": 89,
      "outputs": [
        {
          "output_type": "stream",
          "name": "stdout",
          "text": [
            "[165]\n",
            "165\n"
          ]
        }
      ]
    },
    {
      "cell_type": "markdown",
      "source": [
        "# cek apakah baris seudah berhasil dihapus"
      ],
      "metadata": {
        "id": "0Hz1v4EPBMeR"
      }
    },
    {
      "cell_type": "code",
      "source": [
        "dataset.shape"
      ],
      "metadata": {
        "id": "qChKN7eq-qlA",
        "outputId": "2e3e9e8d-9dd4-4b61-882e-2f3212c81d50",
        "colab": {
          "base_uri": "https://localhost:8080/"
        }
      },
      "execution_count": 95,
      "outputs": [
        {
          "output_type": "execute_result",
          "data": {
            "text/plain": [
              "(243, 14)"
            ]
          },
          "metadata": {},
          "execution_count": 95
        }
      ]
    },
    {
      "cell_type": "markdown",
      "source": [
        "## keterangan :\n",
        "dari hasil diatas dapat kita cek bahwa terdapat error pada baris ke 165 ketika mengubah ke tipe data float, sehingga kita bisa menghapus baris tersebut dan mengubah tipe data kolom menjadi sebuah float"
      ],
      "metadata": {
        "id": "bFoiLOX6AtK2"
      }
    },
    {
      "cell_type": "markdown",
      "source": [
        "#ubah kolom ke float dan mengeceknya kembali"
      ],
      "metadata": {
        "id": "gwGGG6SsBDUy"
      }
    },
    {
      "cell_type": "code",
      "source": [
        "dataset['FWI'] = dataset['FWI'].astype('float')"
      ],
      "metadata": {
        "id": "5Mc2QNyi70zG"
      },
      "execution_count": 93,
      "outputs": []
    },
    {
      "cell_type": "code",
      "source": [
        "dataset.info()"
      ],
      "metadata": {
        "id": "-F25xiCT7JNU",
        "outputId": "70f3dea4-1c8f-4531-e9be-051126e556e2",
        "colab": {
          "base_uri": "https://localhost:8080/"
        }
      },
      "execution_count": 94,
      "outputs": [
        {
          "output_type": "stream",
          "name": "stdout",
          "text": [
            "<class 'pandas.core.frame.DataFrame'>\n",
            "Index: 243 entries, 0 to 243\n",
            "Data columns (total 14 columns):\n",
            " #   Column       Non-Null Count  Dtype  \n",
            "---  ------       --------------  -----  \n",
            " 0   day          243 non-null    int64  \n",
            " 1   month        243 non-null    int64  \n",
            " 2   year         243 non-null    int64  \n",
            " 3   Temperature  243 non-null    int64  \n",
            " 4    RH          243 non-null    int64  \n",
            " 5    Ws          243 non-null    int64  \n",
            " 6   Rain         243 non-null    float64\n",
            " 7   FFMC         243 non-null    float64\n",
            " 8   DMC          243 non-null    float64\n",
            " 9   DC           243 non-null    float64\n",
            " 10  ISI          243 non-null    float64\n",
            " 11  BUI          243 non-null    float64\n",
            " 12  FWI          243 non-null    float64\n",
            " 13  Classes      243 non-null    object \n",
            "dtypes: float64(7), int64(6), object(1)\n",
            "memory usage: 28.5+ KB\n"
          ]
        }
      ]
    },
    {
      "cell_type": "markdown",
      "source": [
        "# cek nilai unik kolom classses"
      ],
      "metadata": {
        "id": "0ZvmRCgsBeSI"
      }
    },
    {
      "cell_type": "code",
      "source": [
        "dataset['Classes  '].unique()"
      ],
      "metadata": {
        "id": "H7PAmrj__5cI",
        "outputId": "0d07196d-f4cd-48db-f862-70b9e8edb154",
        "colab": {
          "base_uri": "https://localhost:8080/"
        }
      },
      "execution_count": 96,
      "outputs": [
        {
          "output_type": "execute_result",
          "data": {
            "text/plain": [
              "array(['not fire   ', 'fire   ', 'fire', 'fire ', 'not fire', 'not fire ',\n",
              "       'not fire     ', 'not fire    '], dtype=object)"
            ]
          },
          "metadata": {},
          "execution_count": 96
        }
      ]
    },
    {
      "cell_type": "markdown",
      "source": [
        "## keterangan :\n",
        "dari output diatas dapat kita amati bahwa data tersebut sebenarnya hanya memiliki 2 kategori namun terdapat perbedaan penulisan sehingga perlu untuk kita cleaning"
      ],
      "metadata": {
        "id": "yzNxGobABkNI"
      }
    },
    {
      "cell_type": "markdown",
      "source": [
        "#Cleaning data in classes column"
      ],
      "metadata": {
        "id": "Gror3q2MB3MB"
      }
    },
    {
      "cell_type": "code",
      "source": [
        "dataset['Classes  '] = dataset['Classes  '].str.strip()\n",
        "dataset['Classes  '] = dataset['Classes  '].astype('category')"
      ],
      "metadata": {
        "id": "aeLeLQqYATql"
      },
      "execution_count": 98,
      "outputs": []
    },
    {
      "cell_type": "code",
      "source": [
        "dataset.info()"
      ],
      "metadata": {
        "id": "34IWHEm6Aizn",
        "outputId": "fe5b07aa-af5d-4f15-d818-590f55b2e619",
        "colab": {
          "base_uri": "https://localhost:8080/"
        }
      },
      "execution_count": 99,
      "outputs": [
        {
          "output_type": "stream",
          "name": "stdout",
          "text": [
            "<class 'pandas.core.frame.DataFrame'>\n",
            "Index: 243 entries, 0 to 243\n",
            "Data columns (total 14 columns):\n",
            " #   Column       Non-Null Count  Dtype   \n",
            "---  ------       --------------  -----   \n",
            " 0   day          243 non-null    int64   \n",
            " 1   month        243 non-null    int64   \n",
            " 2   year         243 non-null    int64   \n",
            " 3   Temperature  243 non-null    int64   \n",
            " 4    RH          243 non-null    int64   \n",
            " 5    Ws          243 non-null    int64   \n",
            " 6   Rain         243 non-null    float64 \n",
            " 7   FFMC         243 non-null    float64 \n",
            " 8   DMC          243 non-null    float64 \n",
            " 9   DC           243 non-null    float64 \n",
            " 10  ISI          243 non-null    float64 \n",
            " 11  BUI          243 non-null    float64 \n",
            " 12  FWI          243 non-null    float64 \n",
            " 13  Classes      243 non-null    category\n",
            "dtypes: category(1), float64(7), int64(6)\n",
            "memory usage: 26.9 KB\n"
          ]
        }
      ]
    },
    {
      "cell_type": "code",
      "source": [
        "dataset['Classes  '].unique()"
      ],
      "metadata": {
        "id": "xUtfLlQWCBBT",
        "outputId": "27640286-1824-4c15-85ae-44fa33328172",
        "colab": {
          "base_uri": "https://localhost:8080/"
        }
      },
      "execution_count": 101,
      "outputs": [
        {
          "output_type": "execute_result",
          "data": {
            "text/plain": [
              "['not fire', 'fire']\n",
              "Categories (2, object): ['fire', 'not fire']"
            ]
          },
          "metadata": {},
          "execution_count": 101
        }
      ]
    }
  ]
}