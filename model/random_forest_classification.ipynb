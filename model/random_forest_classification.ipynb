{
  "nbformat": 4,
  "nbformat_minor": 0,
  "metadata": {
    "colab": {
      "provenance": [],
      "authorship_tag": "ABX9TyMXAttg7Mt/ezlX1Q7C0Gmc",
      "include_colab_link": true
    },
    "kernelspec": {
      "name": "python3",
      "display_name": "Python 3"
    },
    "language_info": {
      "name": "python"
    }
  },
  "cells": [
    {
      "cell_type": "markdown",
      "metadata": {
        "id": "view-in-github",
        "colab_type": "text"
      },
      "source": [
        "<a href=\"https://colab.research.google.com/github/inikanipp/Algerian_Forest_Fires_Classification_Prediction/blob/main/model/random_forest_classification.ipynb\" target=\"_parent\"><img src=\"https://colab.research.google.com/assets/colab-badge.svg\" alt=\"Open In Colab\"/></a>"
      ]
    },
    {
      "cell_type": "markdown",
      "source": [
        "#import library\n"
      ],
      "metadata": {
        "id": "h_pHB_vrqpJf"
      }
    },
    {
      "cell_type": "code",
      "execution_count": null,
      "metadata": {
        "id": "kiGZVT47JG1w"
      },
      "outputs": [],
      "source": [
        "import pandas as pd\n",
        "import numpy as np\n",
        "import matplotlib.pyplot as plt\n",
        "import seaborn as sns"
      ]
    },
    {
      "cell_type": "markdown",
      "source": [
        "#import dataset"
      ],
      "metadata": {
        "id": "OfPBpcejqyv7"
      }
    },
    {
      "cell_type": "code",
      "source": [
        "dataset = pd.read_csv('dataset-Algerian.csv')"
      ],
      "metadata": {
        "id": "Vd8sf-NFqtRv"
      },
      "execution_count": null,
      "outputs": []
    },
    {
      "cell_type": "markdown",
      "source": [
        "#Descriptive Statistic"
      ],
      "metadata": {
        "id": "HHZSM4n2rMFR"
      }
    },
    {
      "cell_type": "code",
      "source": [],
      "metadata": {
        "id": "Gno_T1GCrcEc"
      },
      "execution_count": null,
      "outputs": []
    }
  ]
}